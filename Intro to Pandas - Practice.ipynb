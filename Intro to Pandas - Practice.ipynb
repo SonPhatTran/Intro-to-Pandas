{
 "cells": [
  {
   "cell_type": "markdown",
   "id": "591954fa",
   "metadata": {},
   "source": [
    "# Phân tích thành phần dinh dưỡng của các loại ngũ cốc ăn sáng"
   ]
  },
  {
   "cell_type": "markdown",
   "id": "ac36339a",
   "metadata": {},
   "source": [
    "Trong video lần này, chúng ta sẽ sử dụng và tập làm quen với thư viện Pandas với tập dữ liệu các loại ngũ cốc"
   ]
  },
  {
   "cell_type": "markdown",
   "id": "91e27937",
   "metadata": {},
   "source": [
    "## Nhập các thư viện cần thiết"
   ]
  },
  {
   "cell_type": "code",
   "execution_count": 1,
   "id": "827dd480",
   "metadata": {},
   "outputs": [],
   "source": [
    "# Nhập thư viện Pandas để phân tích dữ liệu"
   ]
  },
  {
   "cell_type": "code",
   "execution_count": 1,
   "id": "547954f6",
   "metadata": {},
   "outputs": [],
   "source": [
    "# Nhập thư viện Matplotlib để trực quan hóa dữ liệu"
   ]
  },
  {
   "cell_type": "markdown",
   "id": "1f0bdccc",
   "metadata": {},
   "source": [
    "## Nhập tập dữ liệu ngũ cốc"
   ]
  },
  {
   "cell_type": "markdown",
   "id": "7ba9af31",
   "metadata": {},
   "source": [
    "Ý nghĩa của tệp dữ liệu ngũ cốc\n",
    "\n",
    "- name: Tên ngũ cốc\n",
    "- mfr: Nhà sản xuất\n",
    "    * A = American Home Food Products;\n",
    "    * G = General Mills\n",
    "    * K = Kelloggs\n",
    "    * N = Nabisco\n",
    "    * P = Post\n",
    "    * Q = Quaker Oats\n",
    "    * R = Ralston Purina \n",
    "- Loại ngũ cốc (ăn nóng hoặc lạnh):\n",
    "    * cold\n",
    "    * hot \n",
    "- calories: calo\n",
    "- protein: grams protein\n",
    "- fat: grams chất béo\n",
    "- sodium: milligrams muối\n",
    "- fiber: grams chất xơ\n",
    "- carbo: grams các chất carbohydrates\n",
    "- sugars: grams đường\n",
    "- potass: milligrams chất kali\n",
    "- vitamins: vitamins và khoáng chất - 0, 25, or 100, indicating the typical percentage of FDA recommended\n",
    "- shelf: ngăn trưng bày (1, 2, hoặc 3 so với mặt đất)\n",
    "- weight: khối lượng phục vụ\n",
    "- cups: số lượng (tính bằng ly) cho mỗi lần ăn\n",
    "- rating: đánh giá của loại ngũ cốc"
   ]
  },
  {
   "cell_type": "code",
   "execution_count": 2,
   "id": "24e13dc5",
   "metadata": {},
   "outputs": [],
   "source": [
    "# Nhập tập dữ liệu tên là 'cereal.csv' trong folder 'data'"
   ]
  },
  {
   "cell_type": "markdown",
   "id": "6cd17499",
   "metadata": {},
   "source": [
    "## Bước 1: Đọc dữ liệu"
   ]
  },
  {
   "cell_type": "code",
   "execution_count": 3,
   "id": "aa663c43",
   "metadata": {},
   "outputs": [],
   "source": [
    "# In 5 hàng đầu tiên trong tập dữ liệu"
   ]
  },
  {
   "cell_type": "code",
   "execution_count": 4,
   "id": "808d44c3",
   "metadata": {},
   "outputs": [],
   "source": [
    "# In 5 hàng cuối cùng trong tập dữ liệu"
   ]
  },
  {
   "cell_type": "code",
   "execution_count": 6,
   "id": "2bb60bdc",
   "metadata": {},
   "outputs": [],
   "source": [
    "# In k hàng đầu tiên"
   ]
  },
  {
   "cell_type": "code",
   "execution_count": 7,
   "id": "4bc90bf7",
   "metadata": {},
   "outputs": [],
   "source": [
    "# In k hàng cuối cùng"
   ]
  },
  {
   "cell_type": "markdown",
   "id": "6f97cb78",
   "metadata": {},
   "source": [
    "## Xem các cột và kiểu dữ liệu"
   ]
  },
  {
   "cell_type": "code",
   "execution_count": 5,
   "id": "ce0796a3",
   "metadata": {},
   "outputs": [],
   "source": [
    "# In tên của tất cả các cột trong một dataframe"
   ]
  },
  {
   "cell_type": "code",
   "execution_count": 9,
   "id": "657756e4",
   "metadata": {},
   "outputs": [],
   "source": [
    "# In tên của tất cả các cột dưới dạng Python list"
   ]
  },
  {
   "cell_type": "code",
   "execution_count": 6,
   "id": "c355cc4c",
   "metadata": {},
   "outputs": [],
   "source": [
    "# In tên của các cột, và kiểu dữ liệu mỗi cột"
   ]
  },
  {
   "cell_type": "markdown",
   "id": "95d85102",
   "metadata": {},
   "source": [
    "## Tính toán các thống kê đặc trưng"
   ]
  },
  {
   "cell_type": "code",
   "execution_count": 7,
   "id": "13f32fa9",
   "metadata": {},
   "outputs": [],
   "source": [
    "# Tính toán các thống kê đặc trưng"
   ]
  },
  {
   "cell_type": "code",
   "execution_count": 8,
   "id": "f2b42940",
   "metadata": {},
   "outputs": [],
   "source": [
    "# Tính toán các thống kê đặc trưng của các cột dữ liệu object"
   ]
  },
  {
   "cell_type": "markdown",
   "id": "ac267a89",
   "metadata": {},
   "source": [
    "## Lọc tập dữ liệu theo cột"
   ]
  },
  {
   "cell_type": "code",
   "execution_count": 9,
   "id": "607ec1d1",
   "metadata": {},
   "outputs": [],
   "source": [
    "# Chọn một cột bất kỳ"
   ]
  },
  {
   "cell_type": "code",
   "execution_count": 10,
   "id": "b28c6e28",
   "metadata": {},
   "outputs": [],
   "source": [
    "# Chọn cột bất kỳ (cách khác)"
   ]
  },
  {
   "cell_type": "code",
   "execution_count": 11,
   "id": "a781c4fe",
   "metadata": {},
   "outputs": [],
   "source": [
    "# Chọn nhiều cột"
   ]
  },
  {
   "cell_type": "code",
   "execution_count": 12,
   "id": "40854a89",
   "metadata": {},
   "outputs": [],
   "source": [
    "# Chọn các giá trị trong cột"
   ]
  },
  {
   "cell_type": "code",
   "execution_count": 13,
   "id": "56822ffa",
   "metadata": {},
   "outputs": [],
   "source": [
    "# Lọc theo các giá trị mỗi cột"
   ]
  },
  {
   "cell_type": "markdown",
   "id": "a8121aef",
   "metadata": {},
   "source": [
    "## Chọn dữ liệu bằng .iloc"
   ]
  },
  {
   "cell_type": "code",
   "execution_count": 14,
   "id": "c7fa4986",
   "metadata": {},
   "outputs": [],
   "source": [
    "# Chọn 1 hàng"
   ]
  },
  {
   "cell_type": "code",
   "execution_count": 15,
   "id": "c33ff729",
   "metadata": {},
   "outputs": [],
   "source": [
    "# Chọn nhiều hàng"
   ]
  },
  {
   "cell_type": "code",
   "execution_count": 16,
   "id": "577e9c63",
   "metadata": {},
   "outputs": [],
   "source": [
    "# Chọn một cột"
   ]
  },
  {
   "cell_type": "code",
   "execution_count": 17,
   "id": "922fab60",
   "metadata": {},
   "outputs": [],
   "source": [
    "# Chọn nhiều cột"
   ]
  },
  {
   "cell_type": "code",
   "execution_count": 18,
   "id": "02369da1",
   "metadata": {},
   "outputs": [],
   "source": [
    "# Chọn hàng kết hợp với cột\n",
    "# Chọn 5 hàng đầu tiên, với 5 hàng đó, chọn 3 cột đầu tiên"
   ]
  },
  {
   "cell_type": "markdown",
   "id": "04b49d1d",
   "metadata": {},
   "source": [
    "## Cập nhật, thay đổi dữ liệu"
   ]
  },
  {
   "cell_type": "markdown",
   "id": "918bb4ab",
   "metadata": {},
   "source": [
    "### Tạo bản sao của dữ liệu"
   ]
  },
  {
   "cell_type": "code",
   "execution_count": 19,
   "id": "f6d4d68b",
   "metadata": {},
   "outputs": [],
   "source": [
    "# Tạo bản sao của dữ liệu bằng cách .copy()"
   ]
  },
  {
   "cell_type": "code",
   "execution_count": 21,
   "id": "78f47c0f",
   "metadata": {},
   "outputs": [],
   "source": [
    "# Xem dữ liệu đã copy"
   ]
  },
  {
   "cell_type": "markdown",
   "id": "8f8e7c0b",
   "metadata": {},
   "source": [
    "### Xóa một cột"
   ]
  },
  {
   "cell_type": "code",
   "execution_count": 22,
   "id": "54909075",
   "metadata": {},
   "outputs": [],
   "source": [
    "# Trả về datafdrame mới"
   ]
  },
  {
   "cell_type": "markdown",
   "id": "65158571",
   "metadata": {},
   "source": [
    "### Thêm một cột mới"
   ]
  },
  {
   "cell_type": "code",
   "execution_count": 23,
   "id": "3b8b4629",
   "metadata": {},
   "outputs": [],
   "source": [
    "# Tính toán và thêm một cột mới dựa trên giá trị của cột cũ"
   ]
  },
  {
   "cell_type": "code",
   "execution_count": 24,
   "id": "cb1ee12f",
   "metadata": {},
   "outputs": [],
   "source": [
    "# Xem thử dataframe"
   ]
  },
  {
   "cell_type": "code",
   "execution_count": 25,
   "id": "98e5179a",
   "metadata": {},
   "outputs": [],
   "source": [
    "# Tính toán giá trị của cột mới, sử dụng apply"
   ]
  },
  {
   "cell_type": "code",
   "execution_count": 26,
   "id": "6491144e",
   "metadata": {},
   "outputs": [],
   "source": [
    "# Xem thử dataframe"
   ]
  },
  {
   "cell_type": "markdown",
   "id": "94a0fd9e",
   "metadata": {},
   "source": [
    "## Lưu dataframe vào một tệp mới"
   ]
  },
  {
   "cell_type": "code",
   "execution_count": 27,
   "id": "fe04a815",
   "metadata": {},
   "outputs": [],
   "source": [
    "# Lưu dataframe vào tệp có tên 'cereal_copy.csv' trong folder data"
   ]
  },
  {
   "cell_type": "markdown",
   "id": "5630aee3",
   "metadata": {},
   "source": [
    "## Mở rộng"
   ]
  },
  {
   "cell_type": "code",
   "execution_count": 32,
   "id": "102fcb04",
   "metadata": {},
   "outputs": [
    {
     "data": {
      "image/png": "[encoded data removed]",
      "text/plain": [
       "<Figure size 640x480 with 1 Axes>"
      ]
     },
     "metadata": {},
     "output_type": "display_data"
    }
   ],
   "source": [
    "# Vẽ biểu đồ phân phối của biến rating\n",
    "sns.histplot(\n",
    "    x=\"rating\",\n",
    "    data=cereal\n",
    ")\n",
    "plt.show()"
   ]
  },
  {
   "cell_type": "code",
   "execution_count": 35,
   "id": "a1cf20d3",
   "metadata": {},
   "outputs": [
    {
     "data": {
      "image/png": "[encoded data removed]",
      "text/plain": [
       "<Figure size 640x480 with 1 Axes>"
      ]
     },
     "metadata": {},
     "output_type": "display_data"
    }
   ],
   "source": [
    "# Vẽ biểu đồ mối quan hệ của hai biến sodim và rating\n",
    "sns.regplot(\n",
    "    x=\"calories\",\n",
    "    y=\"rating\",\n",
    "    data=cereal\n",
    ")\n",
    "plt.show()"
   ]
  },
  {
   "cell_type": "code",
   "execution_count": null,
   "id": "2fa8d4a4",
   "metadata": {},
   "outputs": [],
   "source": []
  }
 ],
 "metadata": {
  "kernelspec": {
   "display_name": "Python 3 (ipykernel)",
   "language": "python",
   "name": "python3"
  },
  "language_info": {
   "codemirror_mode": {
    "name": "ipython",
    "version": 3
   },
   "file_extension": ".py",
   "mimetype": "text/x-python",
   "name": "python",
   "nbconvert_exporter": "python",
   "pygments_lexer": "ipython3",
   "version": "3.8.16"
  }
 },
 "nbformat": 4,
 "nbformat_minor": 5
}
